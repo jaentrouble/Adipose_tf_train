{
 "metadata": {
  "language_info": {
   "codemirror_mode": {
    "name": "ipython",
    "version": 3
   },
   "file_extension": ".py",
   "mimetype": "text/x-python",
   "name": "python",
   "nbconvert_exporter": "python",
   "pygments_lexer": "ipython3",
   "version": "3.7.5-final"
  },
  "orig_nbformat": 2,
  "kernelspec": {
   "name": "python37564bitenvvenvaf8c008f94ad4a7596df70e547d161d5",
   "display_name": "Python 3.7.5 64-bit ('env': venv)"
  }
 },
 "nbformat": 4,
 "nbformat_minor": 2,
 "cells": [
  {
   "cell_type": "code",
   "execution_count": 1,
   "metadata": {
    "tags": []
   },
   "outputs": [],
   "source": [
    "%matplotlib inline\n",
    "import numpy as np\n",
    "import tensorflow as tf"
   ]
  },
  {
   "cell_type": "code",
   "execution_count": 2,
   "metadata": {},
   "outputs": [],
   "source": [
    "def int_feature(value):\n",
    "    return tf.train.Feature(int64_list=tf.train.Int64List(value=value))"
   ]
  },
  {
   "cell_type": "code",
   "execution_count": 3,
   "metadata": {
    "tags": []
   },
   "outputs": [
    {
     "output_type": "stream",
     "name": "stdout",
     "text": "X_train:(148296, 200, 200, 3)\nX_test:(16000, 200, 200, 3)\nY_train:(148296, 100, 100)\nY_test:(16000, 100, 100)\n"
    }
   ],
   "source": [
    "with np.load('Adipose_dataset.npz') as data:\n",
    "    X_train = data['X_train']\n",
    "    X_test = data['X_test']\n",
    "    Y_train = data['Y_train']\n",
    "    Y_test = data['Y_test']\n",
    "print('X_train:{}'.format(X_train.shape))\n",
    "print('X_test:{}'.format(X_test.shape))\n",
    "print('Y_train:{}'.format(Y_train.shape))\n",
    "print('Y_test:{}'.format(Y_test.shape))"
   ]
  },
  {
   "cell_type": "code",
   "execution_count": 4,
   "metadata": {},
   "outputs": [],
   "source": [
    "X_train.shape=(X_train.shape[0],X_train.shape[1]*X_train.shape[2]*X_train.shape[3])\n",
    "X_test.shape=(X_test.shape[0],X_test.shape[1]*X_test.shape[2]*X_test.shape[3])\n",
    "Y_train.shape=(Y_train.shape[0],Y_train.shape[1]*Y_train.shape[2])\n",
    "Y_test.shape=(Y_test.shape[0],Y_test.shape[1]*Y_test.shape[2])\n"
   ]
  },
  {
   "cell_type": "code",
   "execution_count": 5,
   "metadata": {
    "tags": []
   },
   "outputs": [
    {
     "output_type": "stream",
     "name": "stdout",
     "text": "X_train:(148296, 120000) dtype:uint8\nX_test:(16000, 120000)\nY_train:(148296, 10000)\nY_test:(16000, 10000)\n"
    }
   ],
   "source": [
    "print('X_train:{} dtype:{}'.format(X_train.shape, X_train.dtype))\n",
    "print('X_test:{}'.format(X_test.shape))\n",
    "print('Y_train:{}'.format(Y_train.shape))\n",
    "print('Y_test:{}'.format(Y_test.shape))"
   ]
  },
  {
   "cell_type": "code",
   "execution_count": 6,
   "metadata": {},
   "outputs": [],
   "source": [
    "def serialize_example(img, mask):\n",
    "    feature = {\n",
    "        'img' : int_feature(img),\n",
    "        'mask' : int_feature(mask),\n",
    "    }\n",
    "    return tf.train.Example(features=tf.train.Features(feature=feature))"
   ]
  },
  {
   "cell_type": "code",
   "execution_count": 9,
   "metadata": {
    "tags": []
   },
   "outputs": [
    {
     "output_type": "stream",
     "name": "stdout",
     "text": "features {\n  feature {\n    key: \"img\"\n    value {\n      int64_list {\n        value: 156\n        value: 154\n        value: 157\n        value: 156\n        value: 154\n        value: 157\n        value: 157\n        value: 155\n        value: 158\n        value: 156\n"
    }
   ],
   "source": [
    "for lin in str(serialize_example(X_train[0],Y_train[0])).split('\\n')[:15]:\n",
    "    print(lin)"
   ]
  },
  {
   "cell_type": "code",
   "execution_count": null,
   "metadata": {},
   "outputs": [],
   "source": [
    "record_file = 'Adipose_train.tfrecords'\n",
    "with tf.io.TFRecordWriter(record_file) as writer:\n",
    "    for img, mask in zip(X_train, Y_train):\n",
    "        tf_example = serialize_example(img, mask)\n",
    "        writer.write(tf_example.SerializeToString())"
   ]
  },
  {
   "cell_type": "code",
   "execution_count": null,
   "metadata": {},
   "outputs": [],
   "source": []
  }
 ]
}